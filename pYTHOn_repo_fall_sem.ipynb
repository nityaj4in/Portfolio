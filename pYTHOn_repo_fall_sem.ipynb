{
  "nbformat": 4,
  "nbformat_minor": 0,
  "metadata": {
    "colab": {
      "provenance": [],
      "authorship_tag": "ABX9TyON2JMn76J8gCssrbfUxFt7",
      "include_colab_link": true
    },
    "kernelspec": {
      "name": "python3",
      "display_name": "Python 3"
    },
    "language_info": {
      "name": "python"
    }
  },
  "cells": [
    {
      "cell_type": "markdown",
      "metadata": {
        "id": "view-in-github",
        "colab_type": "text"
      },
      "source": [
        "<a href=\"https://colab.research.google.com/github/nityaj4in/Portfolio/blob/main/pYTHOn_repo_fall_sem.ipynb\" target=\"_parent\"><img src=\"https://colab.research.google.com/assets/colab-badge.svg\" alt=\"Open In Colab\"/></a>"
      ]
    },
    {
      "cell_type": "code",
      "source": [
        "#Python prog to check whether the written number is palindrome or not \n",
        "number = int(input(\"Enter any number \"))\n",
        "reverse = 0\n",
        "o = number\n",
        "\n",
        "while number>0:\n",
        "    d = number%10\n",
        "    reverse = reverse*10+d\n",
        "    number = number//10\n",
        "    \n",
        "if(o==reverse):\n",
        " print('number is palindrome')\n",
        "else:\n",
        " print('number is not palindrome')"
      ],
      "metadata": {
        "colab": {
          "base_uri": "https://localhost:8080/"
        },
        "id": "pYSP1jhMpTqZ",
        "outputId": "1aeab915-8e78-4062-fa37-2d2e0d6bab29"
      },
      "execution_count": null,
      "outputs": [
        {
          "output_type": "stream",
          "name": "stdout",
          "text": [
            "Enter any number 787\n",
            "number is palindrome\n"
          ]
        }
      ]
    },
    {
      "cell_type": "code",
      "source": [
        "#Python prog to find maximum number in a list\n",
        "def max_num_in_list( list ):\n",
        "    max = list[ 0 ]\n",
        "    for a in list:\n",
        "        if a > max:\n",
        "            max = a\n",
        "    return max\n",
        "print(max_num_in_list([4,10,-5,22]))"
      ],
      "metadata": {
        "colab": {
          "base_uri": "https://localhost:8080/"
        },
        "id": "I3RtkGg0H2oO",
        "outputId": "230b9610-f409-4542-bf70-6482d341a873"
      },
      "execution_count": 16,
      "outputs": [
        {
          "output_type": "stream",
          "name": "stdout",
          "text": [
            "22\n"
          ]
        }
      ]
    },
    {
      "cell_type": "code",
      "source": [
        "#Python program to find the second largest number in a list\n",
        "list_val = [20, 30, 40, 25, 10]  \n",
        "list_val.sort()  \n",
        "print(\"The second largest element of the list is:\", list_val[-2])  \n"
      ],
      "metadata": {
        "colab": {
          "base_uri": "https://localhost:8080/"
        },
        "id": "FfGIfC4fJseD",
        "outputId": "ca29089e-72c0-46d0-cec4-95d91aa8b851"
      },
      "execution_count": 20,
      "outputs": [
        {
          "output_type": "stream",
          "name": "stdout",
          "text": [
            "The second largest element of the list is: 30\n"
          ]
        }
      ]
    },
    {
      "cell_type": "code",
      "source": [
        "a =[]\n",
        "n = int(input('Enter number of elements'))\n",
        "for i in range(1,n+1):\n",
        "  b = int(input('Enter a element'))\n",
        "  a.append(b)\n",
        "even=[]\n",
        "odd=[]\n",
        "for j in a:\n",
        "  if(j%2==0):\n",
        "   even.append(j)\n",
        "  else:\n",
        "    odd.append(j)\n",
        "print(\"The even list\",even)\n",
        "print(\"The odd list\",odd)"
      ],
      "metadata": {
        "colab": {
          "base_uri": "https://localhost:8080/"
        },
        "id": "SOTkLrH1MHaA",
        "outputId": "fa7fa1c0-84a4-4121-9ed1-b26f52a87e83"
      },
      "execution_count": 24,
      "outputs": [
        {
          "output_type": "stream",
          "name": "stdout",
          "text": [
            "Enter number of elements5\n",
            "Enter a element6\n",
            "Enter a element56\n",
            "Enter a element56\n",
            "Enter a element3\n",
            "Enter a element12\n",
            "The even list [6, 56, 56, 12]\n",
            "The odd list [3]\n"
          ]
        }
      ]
    },
    {
      "cell_type": "code",
      "source": [],
      "metadata": {
        "id": "MyMESG2pNQq6"
      },
      "execution_count": null,
      "outputs": []
    },
    {
      "cell_type": "code",
      "source": [
        "#Python prog to find frequency of each digit in a given integer\n",
        "num = int(input('Enter any number'))\n",
        "print('Digit\\tFrequency')\n",
        "for i in range(0,10):\n",
        " c = 0;\n",
        " temp = num;\n",
        " while temp>0:\n",
        "  d = temp%10\n",
        "  if d ==i:\n",
        "    c+=1\n",
        "  temp = temp//10;\n",
        " if c>0:\n",
        "    print(i,\"\\t\",c)"
      ],
      "metadata": {
        "colab": {
          "base_uri": "https://localhost:8080/"
        },
        "id": "2F68IiXzpeiq",
        "outputId": "3c22026b-81dd-45b0-b90d-82b4c0ba40ae"
      },
      "execution_count": null,
      "outputs": [
        {
          "output_type": "stream",
          "name": "stdout",
          "text": [
            "Enter any number454674352654\n",
            "Digit\tFrequency\n",
            "2 \t 1\n",
            "3 \t 1\n",
            "4 \t 4\n",
            "5 \t 3\n",
            "6 \t 2\n",
            "7 \t 1\n"
          ]
        }
      ]
    },
    {
      "cell_type": "code",
      "execution_count": null,
      "metadata": {
        "id": "dPaBKdnl0Z3H"
      },
      "outputs": [],
      "source": [
        "print(\"hello world\")"
      ]
    },
    {
      "cell_type": "code",
      "source": [
        "#Python prog to find all factors of a number\n",
        "num=int(input('Enter a number'))\n",
        "for i in range(1,num+1):\n",
        " if (num%i==0):\n",
        "    print(i)"
      ],
      "metadata": {
        "colab": {
          "base_uri": "https://localhost:8080/"
        },
        "id": "Ng77q3XEqILF",
        "outputId": "94d50c3a-2297-4db5-9052-baa5f82d371a"
      },
      "execution_count": null,
      "outputs": [
        {
          "output_type": "stream",
          "name": "stdout",
          "text": [
            "Enter a number786\n",
            "1\n",
            "2\n",
            "3\n",
            "6\n",
            "131\n",
            "262\n",
            "393\n",
            "786\n"
          ]
        }
      ]
    },
    {
      "cell_type": "code",
      "source": [
        "#Python prog to print all prime  nos b/w 1-n\n",
        "n =int(input('Enter any number'))\n",
        "c=0\n",
        "for i in range(1,n+1):\n",
        "    if(n%i==0):\n",
        "        c+=1\n",
        "if c==2:\n",
        " print('number is prime')\n",
        "else:\n",
        " print('number is not prime')"
      ],
      "metadata": {
        "colab": {
          "base_uri": "https://localhost:8080/"
        },
        "id": "l7AQkCg7qiNB",
        "outputId": "10e00ef2-cb3f-455d-d6a9-23623945698a"
      },
      "execution_count": null,
      "outputs": [
        {
          "output_type": "stream",
          "name": "stdout",
          "text": [
            "Enter any number67\n",
            "number is prime\n"
          ]
        }
      ]
    },
    {
      "cell_type": "code",
      "source": [
        "#Python prog to print fibonacci\n",
        "n = int(input('How many terms?'))\n",
        "\n",
        "n1,n2=0,1\n",
        "count=0\n",
        "\n",
        "if n<=0:\n",
        "    print('Please enter a positive integer')\n",
        "elif n ==1:\n",
        "    print(n1)\n",
        "else:\n",
        "    print('Fibonacci sequence')\n",
        "    while(count<n):\n",
        "        print(n1)\n",
        "        nth = n1+n2\n",
        "        n1=n2\n",
        "        n2=nth\n",
        "        count+=1"
      ],
      "metadata": {
        "colab": {
          "base_uri": "https://localhost:8080/"
        },
        "id": "f-WKepQvqvbr",
        "outputId": "6122839a-4ddb-4790-caba-3a06b4084f31"
      },
      "execution_count": null,
      "outputs": [
        {
          "output_type": "stream",
          "name": "stdout",
          "text": [
            "How many terms?8\n",
            "Fibonacci sequence\n",
            "0\n",
            "1\n",
            "1\n",
            "2\n",
            "3\n",
            "5\n",
            "8\n",
            "13\n"
          ]
        }
      ]
    }
  ]
}